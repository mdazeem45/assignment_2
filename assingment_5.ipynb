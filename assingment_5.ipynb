{
 "cells": [
  {
   "cell_type": "code",
   "execution_count": 1,
   "id": "1b4c80cc-c6d4-415e-8a0d-47752e545c14",
   "metadata": {},
   "outputs": [],
   "source": [
    "#q1)\n",
    "class vehicle:\n",
    "    def __init__(self,name,max_speed,avg):\n",
    "        self.name_of_vehicle=name\n",
    "        self.max_speed=max_speed\n",
    "        self.average_of_vehicle=avg\n",
    "        \n",
    "    def display(self):\n",
    "        return self.name_of_vehicle,self.max_speed,self.average_of_vehicle"
   ]
  },
  {
   "cell_type": "code",
   "execution_count": 2,
   "id": "012a769e-d818-4cc0-a7c3-ced4b6f9644b",
   "metadata": {},
   "outputs": [
    {
     "data": {
      "text/plain": [
       "('maruthi', 170, 90)"
      ]
     },
     "execution_count": 2,
     "metadata": {},
     "output_type": "execute_result"
    }
   ],
   "source": [
    "car=vehicle(\"maruthi\",170,90)\n",
    "car.display()"
   ]
  },
  {
   "cell_type": "code",
   "execution_count": 8,
   "id": "8cca917e-45f7-4987-a18e-095792aaae35",
   "metadata": {},
   "outputs": [],
   "source": [
    "#q2)\n",
    "class vehicle_2(vehicle):\n",
    "    def seating_capacity(self,seating):\n",
    "        self.seating_capacity=seating\n",
    "        return self.name_of_vehicle,self.seating_capacity"
   ]
  },
  {
   "cell_type": "code",
   "execution_count": 10,
   "id": "11416dca-4ee7-4965-90f1-8ef7cea316ef",
   "metadata": {},
   "outputs": [],
   "source": [
    "car2=vehicle_2(\"maruthi\",170,90)"
   ]
  },
  {
   "cell_type": "code",
   "execution_count": 11,
   "id": "adc3e861-dc67-40d4-8f1d-a39096b99280",
   "metadata": {},
   "outputs": [
    {
     "data": {
      "text/plain": [
       "('maruthi', 4)"
      ]
     },
     "execution_count": 11,
     "metadata": {},
     "output_type": "execute_result"
    }
   ],
   "source": [
    "car2.seating_capacity(4)"
   ]
  },
  {
   "cell_type": "code",
   "execution_count": 12,
   "id": "953193ee-fd5a-4926-bc67-1dfa436fd255",
   "metadata": {},
   "outputs": [
    {
     "name": "stdout",
     "output_type": "stream",
     "text": [
      "Method 1 from BaseClass1\n",
      "Method 2 from BaseClass2\n",
      "Method 3 in DerivedClass\n"
     ]
    }
   ],
   "source": [
    "#q3)\n",
    "#Multiple inheritance is a feature in object-oriented programming languages, including Python, where a class can inherit attributes and methods from multiple parent classes. In other words, a child class can inherit from more than one base class, \n",
    "#allowing it to inherit and combine functionalities from all the parent classes.\n",
    "class BaseClass1:\n",
    "    def method1(self):\n",
    "        print(\"Method 1 from BaseClass1\")\n",
    "\n",
    "class BaseClass2:\n",
    "    def method2(self):\n",
    "        print(\"Method 2 from BaseClass2\")\n",
    "\n",
    "class DerivedClass(BaseClass1, BaseClass2):\n",
    "    def method3(self):\n",
    "        print(\"Method 3 in DerivedClass\")\n",
    "\n",
    "# Create an instance of the derived class\n",
    "obj = DerivedClass()\n",
    "\n",
    "# Access methods from BaseClass1\n",
    "obj.method1()  # Output: Method 1 from BaseClass1\n",
    "\n",
    "# Access methods from BaseClass2\n",
    "obj.method2()  # Output: Method 2 from BaseClass2\n",
    "\n",
    "# Access method from DerivedClass\n",
    "obj.method3()  # Output: Method 3 in DerivedClass\n"
   ]
  },
  {
   "cell_type": "code",
   "execution_count": 1,
   "id": "337846c4-ce3f-467e-b6a3-65eeeac3d84c",
   "metadata": {},
   "outputs": [],
   "source": [
    "#q4)\n",
    "#In Python, getters and setters are methods used to access and modify the values of an object's attributes, respectively. They are part of the concept of encapsulation, \n",
    "#which aims to control access to the internal state of an object.\n",
    "class car:\n",
    "    def __init__(self,name,model,year,speed) :\n",
    "        self.__name=name\n",
    "        self.__year=year\n",
    "        self.__model=model\n",
    "        self.__speed=speed\n",
    "    def set_speed(self,speed):\n",
    "        self.__speed=0 if speed<0 else speed\n",
    "    def get_speed(self):\n",
    "        return self.__speed   "
   ]
  },
  {
   "cell_type": "code",
   "execution_count": 2,
   "id": "d71ff750-3039-4ab3-81f3-e36f72587a93",
   "metadata": {},
   "outputs": [],
   "source": [
    "t=car(\"tesla\",\"Y\",2019,220)\n"
   ]
  },
  {
   "cell_type": "code",
   "execution_count": 3,
   "id": "f3b0ae52-6b05-4524-9871-5ce4d7f4cce5",
   "metadata": {},
   "outputs": [],
   "source": [
    "t.set_speed(230)"
   ]
  },
  {
   "cell_type": "code",
   "execution_count": 4,
   "id": "153c1ee2-a247-4714-862f-01910e4e85cf",
   "metadata": {},
   "outputs": [
    {
     "data": {
      "text/plain": [
       "230"
      ]
     },
     "execution_count": 4,
     "metadata": {},
     "output_type": "execute_result"
    }
   ],
   "source": [
    "t.get_speed()"
   ]
  },
  {
   "cell_type": "code",
   "execution_count": 5,
   "id": "1bb69f31-43d6-49cd-a74c-c388025e6351",
   "metadata": {},
   "outputs": [
    {
     "name": "stdout",
     "output_type": "stream",
     "text": [
      "This is the ParentClass\n",
      "This is the ChildClass\n"
     ]
    }
   ],
   "source": [
    "#q5)\n",
    "#Method overriding in Python is a concept in object-oriented programming where a derived class provides its own implementation of a method that is already defined in its parent class. When a method is overridden, \n",
    "#the version of the method defined in the derived class is executed instead of the parent class's version.\n",
    "class ParentClass:\n",
    "    def print_message(self):\n",
    "        print(\"This is the ParentClass\")\n",
    "\n",
    "class ChildClass(ParentClass):\n",
    "    def print_message(self):\n",
    "        print(\"This is the ChildClass\")\n",
    "\n",
    "# Create instances of the classes\n",
    "parent_obj = ParentClass()\n",
    "child_obj = ChildClass()\n",
    "\n",
    "# Call the method on the parent object\n",
    "parent_obj.print_message()  # Output: This is the ParentClass\n",
    "\n",
    "# Call the method on the child object\n",
    "child_obj.print_message()  # Output: This is the ChildClass\n"
   ]
  },
  {
   "cell_type": "code",
   "execution_count": null,
   "id": "7ed89ca5-44e2-4a7b-99c7-49598304d29f",
   "metadata": {},
   "outputs": [],
   "source": []
  }
 ],
 "metadata": {
  "kernelspec": {
   "display_name": "Python 3 (ipykernel)",
   "language": "python",
   "name": "python3"
  },
  "language_info": {
   "codemirror_mode": {
    "name": "ipython",
    "version": 3
   },
   "file_extension": ".py",
   "mimetype": "text/x-python",
   "name": "python",
   "nbconvert_exporter": "python",
   "pygments_lexer": "ipython3",
   "version": "3.10.8"
  }
 },
 "nbformat": 4,
 "nbformat_minor": 5
}
