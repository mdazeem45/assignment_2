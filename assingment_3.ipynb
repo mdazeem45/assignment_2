{
 "cells": [
  {
   "cell_type": "code",
   "execution_count": 15,
   "id": "75dc0ab9-0407-4bad-828e-e78ca1324114",
   "metadata": {},
   "outputs": [],
   "source": [
    "#Q1)The key word used to create function\n",
    "def odd():\n",
    "    l1=[]\n",
    "    for i in range(25):\n",
    "        if i%2!=0:\n",
    "            l1.append(i)\n",
    "    return l1\n",
    "    "
   ]
  },
  {
   "cell_type": "code",
   "execution_count": 16,
   "id": "93a7619d-df88-4707-86f4-05231b5ddc38",
   "metadata": {},
   "outputs": [
    {
     "data": {
      "text/plain": [
       "[1, 3, 5, 7, 9, 11, 13, 15, 17, 19, 21, 23]"
      ]
     },
     "execution_count": 16,
     "metadata": {},
     "output_type": "execute_result"
    }
   ],
   "source": [
    "odd()"
   ]
  },
  {
   "cell_type": "code",
   "execution_count": 17,
   "id": "702402e5-c44d-473b-8d1d-350d3cdea1d9",
   "metadata": {},
   "outputs": [
    {
     "name": "stdout",
     "output_type": "stream",
     "text": [
      "15\n"
     ]
    }
   ],
   "source": [
    "#q2)1\n",
    "#The *args parameter allows a function to accept any number of positional arguments as a tuple. \n",
    "#It is often used when we want to pass an arbitrary number of arguments to a function without specifying them explicitly.\n",
    "def sum_numbers(*args):\n",
    "    total = 0\n",
    "    for num in args:\n",
    "        total += num\n",
    "    return total\n",
    "\n",
    "result = sum_numbers(1, 2, 3, 4, 5)\n",
    "print(result)  # Output: 15\n"
   ]
  },
  {
   "cell_type": "code",
   "execution_count": 18,
   "id": "4f087f4d-8671-459f-9b07-ffaf3ba3a16b",
   "metadata": {},
   "outputs": [
    {
     "name": "stdout",
     "output_type": "stream",
     "text": [
      "name: John\n",
      "age: 25\n",
      "city: New York\n"
     ]
    }
   ],
   "source": [
    "#q2)2\n",
    "#the **kwargs parameter allows a function to accept any number of keyword arguments as a dictionary. \n",
    "#It is useful when we want to pass key-value pairs to a function without specifying them explicitly.\n",
    "def print_info(**kwargs):\n",
    "    for key, value in kwargs.items():\n",
    "        print(key + ':', value)\n",
    "\n",
    "print_info(name='John', age=25, city='New York')\n"
   ]
  },
  {
   "cell_type": "code",
   "execution_count": 19,
   "id": "b6722a05-cc60-4e19-8ea6-5654f238f5dc",
   "metadata": {},
   "outputs": [
    {
     "name": "stdout",
     "output_type": "stream",
     "text": [
      "2\n",
      "4\n",
      "6\n",
      "8\n",
      "10\n"
     ]
    }
   ],
   "source": [
    "#q3)\n",
    "#an iterator is an object that implements the iterator protocol, \n",
    "#which consists of two methods: __iter__() and __next__().\n",
    "#The iter() method is used to initialize the iterator object. It returns the iterator object itself and is called when we use the iter() function on an iterable object. \n",
    "#This method sets up the initial state for iteration.\n",
    "#The next() method is used to fetch the next item from the iterator. \n",
    "#It returns the next item in the sequence and advances the iterator's internal pointer. If there are no more items to return, it raises the StopIteration exception.\n",
    "numbers = [2, 4, 6, 8, 10, 12, 14, 16, 18, 20]\n",
    "\n",
    "# Create an iterator object\n",
    "iter_numbers = iter(numbers)\n",
    "\n",
    "# Iterate and print the first five elements\n",
    "for _ in range(5):\n",
    "    print(next(iter_numbers))\n"
   ]
  },
  {
   "cell_type": "code",
   "execution_count": 20,
   "id": "4309101a-96f8-4a49-b495-984615901e04",
   "metadata": {},
   "outputs": [
    {
     "name": "stdout",
     "output_type": "stream",
     "text": [
      "0\n",
      "2\n",
      "4\n",
      "6\n",
      "8\n"
     ]
    }
   ],
   "source": [
    "#q4)\n",
    "# A generator function is a special type of function that generates a sequence of values using the yield keyword. \n",
    "#It allows you to create iterators in a more concise and elegant way compared to using the iter() and next() methods explicitly.\n",
    "#The yield keyword is used in generator functions because it allows the function to produce a value and temporarily suspend its execution. \n",
    "#When the generator's next() method is called, \n",
    "#it resumes execution from where it left off and continues until the next yield statement is encountered\n",
    "def even_numbers(n):\n",
    "    for i in range(n):\n",
    "        if i % 2 == 0:\n",
    "            yield i\n",
    "\n",
    "# Using the generator function\n",
    "even_gen = even_numbers(10)\n",
    "\n",
    "# Iterating over the generator\n",
    "for num in even_gen:\n",
    "    print(num)\n"
   ]
  },
  {
   "cell_type": "code",
   "execution_count": 4,
   "id": "04b7068d-2b6e-45fe-81f0-cd1e1ef42c70",
   "metadata": {},
   "outputs": [],
   "source": [
    "#q5)\n",
    "def prime_generator():\n",
    "    yield 2  # 2 is the first prime number\n",
    "    primes = [2]\n",
    "    num = 3\n",
    "\n",
    "    while True:\n",
    "        is_prime = True\n",
    "        for prime in primes:\n",
    "            if prime * prime > num:\n",
    "                break\n",
    "            if num % prime == 0:\n",
    "                is_prime = False\n",
    "                break\n",
    "        if is_prime:\n",
    "            primes.append(num)\n",
    "            yield num\n",
    "        num += 2\n",
    "prime_gen = prime_generator()        "
   ]
  },
  {
   "cell_type": "code",
   "execution_count": 5,
   "id": "c252a6aa-6291-4149-9253-749eba48d652",
   "metadata": {},
   "outputs": [
    {
     "name": "stdout",
     "output_type": "stream",
     "text": [
      "2\n",
      "3\n",
      "5\n",
      "7\n",
      "11\n",
      "13\n",
      "17\n",
      "19\n",
      "23\n",
      "29\n"
     ]
    }
   ],
   "source": [
    " for _ in range(10):\n",
    "          print(next(prime_gen))\n"
   ]
  },
  {
   "cell_type": "code",
   "execution_count": 6,
   "id": "84d474b8-f6df-4977-b944-a7bee96745a6",
   "metadata": {},
   "outputs": [],
   "source": [
    "#q6)\n",
    "def fib_generator():\n",
    "    a=0\n",
    "    b=1\n",
    "    while True:\n",
    "        yield a\n",
    "        a,b=b,a+b\n",
    "    "
   ]
  },
  {
   "cell_type": "code",
   "execution_count": 7,
   "id": "353045b0-24ad-49f4-b368-d4b3d4513593",
   "metadata": {},
   "outputs": [
    {
     "name": "stdout",
     "output_type": "stream",
     "text": [
      "0\n",
      "1\n",
      "1\n",
      "2\n",
      "3\n",
      "5\n",
      "8\n",
      "13\n",
      "21\n",
      "34\n"
     ]
    }
   ],
   "source": [
    "fib_gen=fib_generator()\n",
    "for i in range(10):\n",
    "    print(next(fib_gen))"
   ]
  },
  {
   "cell_type": "code",
   "execution_count": 8,
   "id": "e6d6f769-b3e1-42f5-8058-62277b16a088",
   "metadata": {},
   "outputs": [
    {
     "name": "stdout",
     "output_type": "stream",
     "text": [
      "['p', 'w', 's', 'k', 'i', 'l', 'l', 's']\n"
     ]
    }
   ],
   "source": [
    "#q7)\n",
    "string = 'pwskills'\n",
    "result = [char for char in string]\n",
    "print(result)\n"
   ]
  },
  {
   "cell_type": "code",
   "execution_count": 14,
   "id": "1741e038-47c7-41e0-94a2-cef351d50ccb",
   "metadata": {},
   "outputs": [],
   "source": [
    "#q8)\n",
    "def panlindrome(n):\n",
    "    reverse_str=str(n)[::-1]\n",
    "    reverse_int=int(reverse_str)\n",
    "    while True:\n",
    "        if n==reverse_int:\n",
    "            return \"it is palindrome\"\n",
    "            break\n",
    "        else:\n",
    "            return \"it is not a palindrome\"\n",
    "            break"
   ]
  },
  {
   "cell_type": "code",
   "execution_count": 15,
   "id": "2f2f5785-e010-4b0d-a99f-51f7ff4914a9",
   "metadata": {},
   "outputs": [
    {
     "data": {
      "text/plain": [
       "'it is palindrome'"
      ]
     },
     "execution_count": 15,
     "metadata": {},
     "output_type": "execute_result"
    }
   ],
   "source": [
    "panlindrome(1441)"
   ]
  },
  {
   "cell_type": "code",
   "execution_count": 16,
   "id": "387a0047-8a2c-4f27-9fe4-e12691e7235d",
   "metadata": {},
   "outputs": [
    {
     "name": "stdout",
     "output_type": "stream",
     "text": [
      "[1, 3, 5, 7, 9, 11, 13, 15, 17, 19, 21, 23, 25, 27, 29, 31, 33, 35, 37, 39, 41, 43, 45, 47, 49, 51, 53, 55, 57, 59, 61, 63, 65, 67, 69, 71, 73, 75, 77, 79, 81, 83, 85, 87, 89, 91, 93, 95, 97, 99]\n"
     ]
    }
   ],
   "source": [
    "#q9)\n",
    "odd_numbers = [num for num in range(1, 101) if num % 2 != 0]\n",
    "print(odd_numbers)\n"
   ]
  },
  {
   "cell_type": "code",
   "execution_count": null,
   "id": "886f8403-d5e4-48c6-9019-7b8210db74a1",
   "metadata": {},
   "outputs": [],
   "source": []
  }
 ],
 "metadata": {
  "kernelspec": {
   "display_name": "Python 3 (ipykernel)",
   "language": "python",
   "name": "python3"
  },
  "language_info": {
   "codemirror_mode": {
    "name": "ipython",
    "version": 3
   },
   "file_extension": ".py",
   "mimetype": "text/x-python",
   "name": "python",
   "nbconvert_exporter": "python",
   "pygments_lexer": "ipython3",
   "version": "3.10.8"
  }
 },
 "nbformat": 4,
 "nbformat_minor": 5
}
