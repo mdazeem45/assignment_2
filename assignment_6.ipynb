{
 "cells": [
  {
   "cell_type": "code",
   "execution_count": 1,
   "id": "5abbc1d4-d1df-45fd-89fd-0871448f9a22",
   "metadata": {},
   "outputs": [
    {
     "name": "stdout",
     "output_type": "stream",
     "text": [
      "Toyota\n",
      "Accord\n",
      "The Toyota Camry's engine is started.\n",
      "The Honda Accord's engine is started.\n"
     ]
    }
   ],
   "source": [
    "#q1)\n",
    "#A class is a template or blueprint that defines the properties (attributes) and behaviors (methods) that objects of that class will have. It serves as a blueprint for creating objects with specific characteristics and functionalities. \n",
    "#A class encapsulates data and functions into a single unit.\n",
    "#An object, on the other hand, is an instance of a class. It is a specific entity that is created based on the class definition. \n",
    "#An object has its own set of values for the attributes defined in the class and can perform the behaviors (methods) defined in the class.\n",
    "class Car:\n",
    "    def __init__(self, make, model):\n",
    "        self.make = make\n",
    "        self.model = model\n",
    "\n",
    "    def start_engine(self):\n",
    "        print(f\"The {self.make} {self.model}'s engine is started.\")\n",
    "\n",
    "\n",
    "# Creating objects (instances) of the Car class\n",
    "car1 = Car(\"Toyota\", \"Camry\")\n",
    "car2 = Car(\"Honda\", \"Accord\")\n",
    "\n",
    "# Accessing object attributes\n",
    "print(car1.make)  # Output: Toyota\n",
    "print(car2.model)  # Output: Accord\n",
    "\n",
    "# Calling object methods\n",
    "car1.start_engine()  # Output: The Toyota Camry's engine is started.\n",
    "car2.start_engine()  # Output: The Honda Accord's engine is started.\n"
   ]
  },
  {
   "cell_type": "markdown",
   "id": "25a9f40d-ccfe-4711-9dbf-c62002a555af",
   "metadata": {},
   "source": [
    "#q2)\n",
    "Encapsulation: Encapsulation is the process of bundling data (attributes) and methods (behaviors) together within a class. It involves hiding the internal details and providing a public interface to interact with the object. Encapsulation helps in achieving data abstraction and data protection by controlling access to the internal state of objects.\n",
    "\n",
    "Inheritance: Inheritance allows the creation of a new class (derived class) based on an existing class (base class or parent class). The derived class inherits the attributes and methods of the base class, allowing code reuse and the ability to extend or modify the functionality of the base class. Inheritance promotes code organization, modularity, and hierarchical relationships between classes.\n",
    "\n",
    "Polymorphism: Polymorphism refers to the ability of an object to take on many forms or have multiple behaviors. It allows objects of different classes to be treated as objects of a common base class. Polymorphism enables code flexibility and the ability to write code that can work with objects of different types, providing different implementations of methods based on the specific object being used.\n",
    "\n",
    "Abstraction: Abstraction involves the concept of representing complex real-world entities as simplified models within a program. It focuses on essential characteristics and hides unnecessary details, providing a high-level view of objects and their interactions. Abstraction allows for the creation of abstract classes and interfaces, defining common attributes and behaviors without specifying their implementation details."
   ]
  },
  {
   "cell_type": "code",
   "execution_count": 2,
   "id": "0d98b723-f0d7-47d8-bfc4-9aa38c6b2561",
   "metadata": {},
   "outputs": [
    {
     "name": "stdout",
     "output_type": "stream",
     "text": [
      "John\n",
      "25\n",
      "Name: John, Age: 25\n"
     ]
    }
   ],
   "source": [
    "#q3)\n",
    "##The __init__() function, also known as the constructor method, is used in Python classes to initialize the attributes of an object when it is created. \n",
    "##It is automatically called when an object is instantiated from a class.\n",
    "class Person:\n",
    "    def __init__(self, name, age):\n",
    "        self.name = name\n",
    "        self.age = age\n",
    "\n",
    "    def display_info(self):\n",
    "        print(f\"Name: {self.name}, Age: {self.age}\")\n",
    "\n",
    "\n",
    "# Create a Person object\n",
    "person1 = Person(\"John\", 25)\n",
    "\n",
    "# Access object attributes\n",
    "print(person1.name)  # Output: John\n",
    "print(person1.age)  # Output: 25\n",
    "\n",
    "# Call object method\n",
    "person1.display_info()  # Output: Name: John, Age: 25\n"
   ]
  },
  {
   "cell_type": "code",
   "execution_count": null,
   "id": "ad67d79b-5b4b-4221-be10-5db05f12bbfb",
   "metadata": {},
   "outputs": [],
   "source": [
    "#q4)\n",
    "#In object-oriented programming (OOP), self is a conventional name used as the first parameter in method definitions within a class. \n",
    "#It refers to the instance of the class itself, allowing methods to access and manipulate the object's attributes and invoke other methods.\n",
    "\n",
    "Here are a few reasons why self is used in OOP:\n",
    "\n",
    "Object Context: By convention, the first parameter of a method in a class is named self. It acts as a reference to the instance of the class on which the method is being called. It provides access to the object's attributes and methods within the method definition. Using self, you can refer to and modify the state of the object from within its methods.\n",
    "\n",
    "Attribute Access: With self, you can access the object's attributes within the class methods. For example, self.attribute_name allows you to access the value of an instance variable or attribute of the object. It ensures that the correct instance variable is accessed within the class, as multiple instances of a class can have different values for their attributes."
   ]
  },
  {
   "cell_type": "code",
   "execution_count": null,
   "id": "a510f137-91a0-4c8f-9e4a-88806cde5878",
   "metadata": {},
   "outputs": [],
   "source": [
    "#q5)\n",
    "#Inheritance is a fundamental concept in object-oriented programming (OOP) that allows the creation of a new class (derived class or child class) based on an existing class (base class or parent class). \n",
    "#The derived class inherits the attributes and methods of the base class, enabling code reuse, modularity, and the ability to extend or modify the functionality of the base class.\n",
    "#1.Single Inheritance:\n",
    "#Single inheritance involves a derived class inheriting from a single base class. \n",
    "#It forms a parent-child relationship between the classes, where the derived class extends or specializes the functionality of the base class.\n",
    "class Animal:\n",
    "    def sound(self):\n",
    "        print(\"Making sound...\")\n",
    "\n",
    "class Dog(Animal):\n",
    "    def bark(self):\n",
    "        print(\"Barking...\")\n",
    "\n",
    "# Create an instance of the Dog class\n",
    "dog = Dog()\n",
    "dog.sound()  # Output: Making sound...\n",
    "dog.bark()  # Output: Barking...\n",
    "#2.Multiple Inheritance:\n",
    "#Multiple inheritance allows a derived class to inherit from multiple base classes. It enables the derived class to inherit and combine the attributes and methods from multiple classes.\n",
    "class Vehicle:\n",
    "    def drive(self):\n",
    "        print(\"Driving...\")\n",
    "\n",
    "class Flyable:\n",
    "    def fly(self):\n",
    "        print(\"Flying...\")\n",
    "\n",
    "class FlyingCar(Vehicle, Flyable):\n",
    "    pass\n",
    "\n",
    "# Create an instance of the FlyingCar class\n",
    "flying_car = FlyingCar()\n",
    "flying_car.drive()  # Output: Driving...\n",
    "flying_car.fly()  # Output: Flying...\n",
    "#q3.Multilevel Inheritance:\n",
    "#Multilevel inheritance involves deriving a class from another derived class. It forms a hierarchy of classes, where each derived class becomes the base class for the next level of inheritance.\n",
    "class Animal:\n",
    "    def sound(self):\n",
    "        print(\"Making sound...\")\n",
    "\n",
    "class Dog(Animal):\n",
    "    def bark(self):\n",
    "        print(\"Barking...\")\n",
    "\n",
    "class Bulldog(Dog):\n",
    "    def guard(self):\n",
    "        print(\"Guarding...\")\n",
    "\n",
    "# Create an instance of the Bulldog class\n",
    "bulldog = Bulldog()\n",
    "bulldog.sound()  # Output: Making sound...\n",
    "bulldog.bark()  # Output: Barking...\n",
    "bulldog.guard()  # Output: Guarding...\n",
    "#q4.Hierarchical inheritance involves multiple derived classes inheriting from a single base class. It creates a hierarchy of classes, where each derived class shares common attributes and methods from the base class while having its own specific attributes and methods."
   ]
  }
 ],
 "metadata": {
  "kernelspec": {
   "display_name": "Python 3 (ipykernel)",
   "language": "python",
   "name": "python3"
  },
  "language_info": {
   "codemirror_mode": {
    "name": "ipython",
    "version": 3
   },
   "file_extension": ".py",
   "mimetype": "text/x-python",
   "name": "python",
   "nbconvert_exporter": "python",
   "pygments_lexer": "ipython3",
   "version": "3.10.8"
  }
 },
 "nbformat": 4,
 "nbformat_minor": 5
}
